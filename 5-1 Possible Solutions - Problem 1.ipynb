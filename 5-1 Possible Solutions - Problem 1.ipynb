{
 "cells": [
  {
   "cell_type": "markdown",
   "metadata": {},
   "source": [
    "# 5-1 Possible Solutions - Save until you have tried your own"
   ]
  },
  {
   "cell_type": "markdown",
   "metadata": {},
   "source": [
    "## Problem 1"
   ]
  },
  {
   "cell_type": "code",
   "execution_count": 5,
   "metadata": {},
   "outputs": [
    {
     "name": "stdout",
     "output_type": "stream",
     "text": [
      "Enter a number of any size or 'done' when you are finished: done\n",
      "\n",
      "The sum is 0\n",
      "The number of values is 0\n"
     ]
    }
   ],
   "source": [
    "prompt = \"Enter a number of any size or 'done' when you are finished: \"\n",
    "count = 0\n",
    "total = 0\n",
    "while True:\n",
    "    test = input(prompt)\n",
    "    if test.lower() == \"done\" : \n",
    "        break\n",
    "    try:\n",
    "        num = float(test)\n",
    "    except:\n",
    "        print(\"Invalid input. Please enter a number!\")\n",
    "        continue\n",
    "    count = count + 1\n",
    "    total = total + num\n",
    "print(\"\")\n",
    "print(\"The sum is\", total)\n",
    "print(\"The number of values is\", count)\n",
    "if count > 0: \n",
    "    print(\"The average is\", total/count)"
   ]
  },
  {
   "cell_type": "markdown",
   "metadata": {},
   "source": [
    "Since there is only one option and task the code could also have been:\n",
    "if count > 0: print(\"The average is\", total/count)"
   ]
  },
  {
   "cell_type": "markdown",
   "metadata": {},
   "source": [
    "Another approach might be:"
   ]
  },
  {
   "cell_type": "code",
   "execution_count": 8,
   "metadata": {},
   "outputs": [
    {
     "name": "stdout",
     "output_type": "stream",
     "text": [
      "Enter a number of any size or 'done' when you are finished: done\n",
      "\n",
      "No numbers were entered! What's up with that?\n"
     ]
    }
   ],
   "source": [
    "prompt = \"Enter a number of any size or 'done' when you are finished: \"\n",
    "count = 0\n",
    "total = 0\n",
    "while True:\n",
    "    test = input(prompt)\n",
    "    if test.lower() == \"done\" : \n",
    "        break\n",
    "    try:\n",
    "        num = float(test)\n",
    "    except:\n",
    "        print(\"Invalid input. Please enter a number!\")\n",
    "        continue\n",
    "    count = count + 1\n",
    "    total = total + num\n",
    "if count > 0: \n",
    "    print(\"\")\n",
    "    print(\"The sum is\", total)\n",
    "    print(\"The number of values is\", count)\n",
    "    print(\"The average is\", total/count)\n",
    "else:\n",
    "    print(\"\")\n",
    "    print(\"No numbers were entered! What's up with that Dude?\")"
   ]
  }
 ],
 "metadata": {
  "kernelspec": {
   "display_name": "Python 3",
   "language": "python",
   "name": "python3"
  },
  "language_info": {
   "codemirror_mode": {
    "name": "ipython",
    "version": 3
   },
   "file_extension": ".py",
   "mimetype": "text/x-python",
   "name": "python",
   "nbconvert_exporter": "python",
   "pygments_lexer": "ipython3",
   "version": "3.6.3"
  }
 },
 "nbformat": 4,
 "nbformat_minor": 2
}
