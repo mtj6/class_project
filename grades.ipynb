{
 "cells": [
  {
   "cell_type": "code",
   "execution_count": 1,
   "metadata": {},
   "outputs": [
    {
     "name": "stdout",
     "output_type": "stream",
     "text": [
      "Enter a grade value between 0 and 100. Enter 'done' when finished: 59\n",
      "Enter a grade value between 0 and 100. Enter 'done' when finished: 78\n",
      "Enter a grade value between 0 and 100. Enter 'done' when finished: 62\n",
      "Enter a grade value between 0 and 100. Enter 'done' when finished: 101\n",
      "Invalid input. Please enter a value between 0 and 100.\n",
      "Enter a grade value between 0 and 100. Enter 'done' when finished: 97\n",
      "Enter a grade value between 0 and 100. Enter 'done' when finished: 86\n",
      "Enter a grade value between 0 and 100. Enter 'done' when finished: doe\n",
      "Invalid input. Please enter a value between 0 and 100.\n",
      "Enter a grade value between 0 and 100. Enter 'done' when finished: done\n",
      "NC\n",
      "C\n",
      "D\n",
      "A\n",
      "A\n",
      "B\n"
     ]
    }
   ],
   "source": [
    "prompt = \"Enter a grade value between 0 and 100. Enter 'done' when finished: \"\n",
    "grades = []\n",
    "while True:\n",
    "    test = input(prompt)\n",
    "    if test.lower() == 'done':\n",
    "        break\n",
    "    try:\n",
    "        num = float(test)\n",
    "        grades.append(num)\n",
    "    except:\n",
    "        print(\"Invalid input. Please enter a value between 0 and 100.\")\n",
    "        continue\n",
    "    if int(test) < 0 or int(test) > 100:\n",
    "        print(\"Invalid input. Please enter a value between 0 and 100.\") \n",
    "        continue\n",
    "for grade in grades:\n",
    "    if grade >= 90:\n",
    "        print('A')\n",
    "    elif grade >= 80:\n",
    "        print('B')\n",
    "    elif grade >= 70:\n",
    "        print('C')\n",
    "    elif grade >= 60:\n",
    "        print('D')\n",
    "    else:\n",
    "        print('NC')"
   ]
  },
  {
   "cell_type": "code",
   "execution_count": null,
   "metadata": {},
   "outputs": [],
   "source": []
  }
 ],
 "metadata": {
  "kernelspec": {
   "display_name": "Python 3",
   "language": "python",
   "name": "python3"
  },
  "language_info": {
   "codemirror_mode": {
    "name": "ipython",
    "version": 3
   },
   "file_extension": ".py",
   "mimetype": "text/x-python",
   "name": "python",
   "nbconvert_exporter": "python",
   "pygments_lexer": "ipython3",
   "version": "3.6.5"
  }
 },
 "nbformat": 4,
 "nbformat_minor": 2
}
