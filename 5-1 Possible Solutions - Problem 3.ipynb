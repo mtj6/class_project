{
 "cells": [
  {
   "cell_type": "markdown",
   "metadata": {},
   "source": [
    "# 5-1 Possible Solutions - save until you have tried your own"
   ]
  },
  {
   "cell_type": "markdown",
   "metadata": {},
   "source": [
    "## Problem 3"
   ]
  },
  {
   "cell_type": "markdown",
   "metadata": {},
   "source": [
    "One approach might be: Building on our last example."
   ]
  },
  {
   "cell_type": "code",
   "execution_count": 9,
   "metadata": {},
   "outputs": [
    {
     "name": "stdout",
     "output_type": "stream",
     "text": [
      "Enter a number of any size or 'done' when you are finished: 10\n",
      "Enter a number of any size or 'done' when you are finished: 9\n",
      "Enter a number of any size or 'done' when you are finished: 6\n",
      "Enter a number of any size or 'done' when you are finished: 4\n",
      "Enter a number of any size or 'done' when you are finished: done\n",
      "\n",
      "The smallest value is 4.0\n",
      "The largest value is 10.0\n",
      "The sum is 29.0\n",
      "The number of values is 4\n",
      "The average is 7.25\n",
      "\n",
      "The numbers are:\n",
      "10.0\n",
      "9.0\n",
      "6.0\n",
      "4.0\n"
     ]
    }
   ],
   "source": [
    "prompt = \"Enter a number of any size or 'done' when you are finished: \"\n",
    "count = 0\n",
    "total = 0\n",
    "largest = None\n",
    "smallest = None\n",
    "nums = []\n",
    "while True:\n",
    "    test = input(prompt)\n",
    "    if test.lower() == \"done\" : \n",
    "        break\n",
    "    try:\n",
    "        num = float(test)\n",
    "    except:\n",
    "        print(\"Invalid input. Please enter a number!\")\n",
    "        continue\n",
    "    count = count + 1\n",
    "    total = total + num\n",
    "    x = nums.append(num)\n",
    "    if smallest is None or num < smallest:\n",
    "        smallest = num\n",
    "    if largest is None or num > largest:\n",
    "        largest = num   \n",
    "if count > 0: \n",
    "    print(\"\")\n",
    "    print(\"The smallest value is\", smallest)\n",
    "    print(\"The largest value is\", largest)\n",
    "    print(\"The sum is\", round(total,2))\n",
    "    print(\"The number of values is\", count)\n",
    "    print(\"The average is\", round(total/count,2))\n",
    "    print(\"\")\n",
    "    print(\"The numbers are:\")\n",
    "    for x in nums:\n",
    "        print(x)  \n",
    "else:\n",
    "    print(\"\")\n",
    "    print(\"No numbers were entered! What's up with that Dude?\")"
   ]
  },
  {
   "cell_type": "markdown",
   "metadata": {},
   "source": [
    "Another approach assumes that since we are building a list anyway, why not use the built-in functions to do the math for us."
   ]
  },
  {
   "cell_type": "code",
   "execution_count": 13,
   "metadata": {},
   "outputs": [
    {
     "name": "stdout",
     "output_type": "stream",
     "text": [
      "Enter a number of any size or 'done' when you are finished: done\n",
      "\n",
      "No numbers were enered! What's up with that Dude?\n"
     ]
    }
   ],
   "source": [
    "prompt = \"Enter a number of any size or 'done' when you are finished: \"\n",
    "nums = []\n",
    "while True:\n",
    "    test = input(prompt)\n",
    "    if test.lower() == \"done\" : \n",
    "        break\n",
    "    try:\n",
    "        num = float(test)\n",
    "    except:\n",
    "        print(\"Invalid input. Please enter a number!\")\n",
    "        continue\n",
    "    x = nums.append(num)\n",
    "if len(nums) > 0: \n",
    "    print(\"\")\n",
    "    print(\"The smallest value is\", min(nums))\n",
    "    print(\"The largest value is\", max(nums))\n",
    "    print(\"The sum is\", round(sum(nums),2))\n",
    "    print(\"The number of values is\", len(nums))\n",
    "    print(\"The average is\", round(sum(nums)/len(nums),2))\n",
    "    print(\"\")\n",
    "    print(\"The numbers are:\")\n",
    "    for x in nums:\n",
    "        print(x)  \n",
    "else:    \n",
    "    print(\"\")\n",
    "    print(\"No numbers were enered! What's up with that Dude?\")"
   ]
  },
  {
   "cell_type": "code",
   "execution_count": null,
   "metadata": {
    "collapsed": true
   },
   "outputs": [],
   "source": []
  }
 ],
 "metadata": {
  "kernelspec": {
   "display_name": "Python 3",
   "language": "python",
   "name": "python3"
  },
  "language_info": {
   "codemirror_mode": {
    "name": "ipython",
    "version": 3
   },
   "file_extension": ".py",
   "mimetype": "text/x-python",
   "name": "python",
   "nbconvert_exporter": "python",
   "pygments_lexer": "ipython3",
   "version": "3.6.3"
  }
 },
 "nbformat": 4,
 "nbformat_minor": 2
}
