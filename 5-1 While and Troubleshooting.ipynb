{
 "cells": [
  {
   "cell_type": "markdown",
   "metadata": {},
   "source": [
    "# Let's look a While and a bit of troubleshooting\n",
    "This is a simple example of a While loop that let's you enter numbers until you type done to finish.\n",
    "It then performs some basic calculations on the numbers."
   ]
  },
  {
   "cell_type": "markdown",
   "metadata": {},
   "source": [
    "## 1 First look"
   ]
  },
  {
   "cell_type": "code",
   "execution_count": 13,
   "metadata": {},
   "outputs": [
    {
     "name": "stdout",
     "output_type": "stream",
     "text": [
      "Enter a number of any size or 'done' when you are finished: 8\n",
      "Enter a number of any size or 'done' when you are finished: 9\n",
      "Enter a number of any size or 'done' when you are finished: 14\n",
      "Enter a number of any size or 'done' when you are finished: done\n",
      "\n",
      " 8.0\n",
      "\n",
      " 9.0\n",
      "\n",
      " 14.0\n",
      "\n",
      "The sum is 31.0\n",
      "The number of values is 3\n",
      "The average is 10.333333333333334\n",
      "The smallest number is 8.0\n",
      "The largest number is 14.0\n"
     ]
    }
   ],
   "source": [
    "prompt = \"Enter a number of any size or 'done' when you are finished: \"\n",
    "count = 0\n",
    "total = 0\n",
    "largest = None\n",
    "smallest = None\n",
    "numbers = []\n",
    "while True:\n",
    "    test = input(prompt)\n",
    "    if test == \"done\" : \n",
    "        break\n",
    "    try:\n",
    "        num = float(test)\n",
    "        numbers.append(num)\n",
    "    except:\n",
    "        print(\"Invalid input. Please enter a number!\")\n",
    "        continue\n",
    "    count = count + 1\n",
    "    total = total + num\n",
    "for num in numbers:\n",
    "    if largest is None or num > largest:\n",
    "        largest = num\n",
    "    if smallest is None or num < smallest:\n",
    "        smallest = num\n",
    "    print(\"\\n\", num)\n",
    "print(\"\")\n",
    "print(\"The sum is\", total)\n",
    "print(\"The number of values is\", count)\n",
    "print(\"The average is\", total/count)\n",
    "print(\"The smallest number is\", smallest)\n",
    "print(\"The largest number is\", largest)"
   ]
  },
  {
   "cell_type": "markdown",
   "metadata": {},
   "source": [
    "Enter a series of numbers - any size, or quantity, positive or negative. For one value type the number as text (ten) or type your name to see the message. Type done when you are finished. It works nicely, but what else could go wrong?\n",
    "\n",
    "Try another series but finish with Done or DONE. How might we fix this?"
   ]
  },
  {
   "cell_type": "markdown",
   "metadata": {},
   "source": [
    "## 2 A simple solution"
   ]
  },
  {
   "cell_type": "markdown",
   "metadata": {},
   "source": [
    "How about using the .lower() method we saw earlier?"
   ]
  },
  {
   "cell_type": "code",
   "execution_count": 5,
   "metadata": {},
   "outputs": [
    {
     "name": "stdout",
     "output_type": "stream",
     "text": [
      "Enter a number of any size or 'done' when you are finished: done\n",
      "\n",
      "The sum is 0\n",
      "The number of values is  0\n",
      "There is no average.\n"
     ]
    }
   ],
   "source": [
    "prompt = \"Enter a number of any size or 'done' when you are finished: \"\n",
    "count = 0\n",
    "total = 0\n",
    "while True:\n",
    "    test = input(prompt)\n",
    "    if test.lower() == \"done\" : \n",
    "        break\n",
    "    try:\n",
    "        num = float(test)\n",
    "    except:\n",
    "        print(\"Invalid input. Please enter a number!\")\n",
    "        continue\n",
    "    count = count + 1\n",
    "    total = total + num\n",
    "print(\"\")\n",
    "print(\"The sum is\", total)\n",
    "print(\"The number of values is \", count)\n",
    "if count == 0:\n",
    "    print(\"There is no average.\")\n",
    "else:\n",
    "    print(\"The average is\", total/count)"
   ]
  },
  {
   "cell_type": "markdown",
   "metadata": {},
   "source": [
    "## 3 Another approach"
   ]
  },
  {
   "cell_type": "markdown",
   "metadata": {},
   "source": [
    "Another approach might use the in operator and a list of options. Try it out. "
   ]
  },
  {
   "cell_type": "code",
   "execution_count": 3,
   "metadata": {
    "scrolled": true
   },
   "outputs": [
    {
     "name": "stdout",
     "output_type": "stream",
     "text": [
      "Enter a number of any size or 'done' when you are finished: done\n",
      "\n",
      "The sum is 0\n",
      "The number of values is 0\n"
     ]
    },
    {
     "ename": "ZeroDivisionError",
     "evalue": "division by zero",
     "output_type": "error",
     "traceback": [
      "\u001b[1;31m---------------------------------------------------------------------------\u001b[0m",
      "\u001b[1;31mZeroDivisionError\u001b[0m                         Traceback (most recent call last)",
      "\u001b[1;32m<ipython-input-3-0b3187fd0774>\u001b[0m in \u001b[0;36m<module>\u001b[1;34m()\u001b[0m\n\u001b[0;32m     16\u001b[0m \u001b[0mprint\u001b[0m\u001b[1;33m(\u001b[0m\u001b[1;34m\"The sum is\"\u001b[0m\u001b[1;33m,\u001b[0m \u001b[0mtotal\u001b[0m\u001b[1;33m)\u001b[0m\u001b[1;33m\u001b[0m\u001b[0m\n\u001b[0;32m     17\u001b[0m \u001b[0mprint\u001b[0m\u001b[1;33m(\u001b[0m\u001b[1;34m\"The number of values is\"\u001b[0m\u001b[1;33m,\u001b[0m \u001b[0mcount\u001b[0m\u001b[1;33m)\u001b[0m\u001b[1;33m\u001b[0m\u001b[0m\n\u001b[1;32m---> 18\u001b[1;33m \u001b[0mprint\u001b[0m\u001b[1;33m(\u001b[0m\u001b[1;34m\"The average is\"\u001b[0m\u001b[1;33m,\u001b[0m \u001b[0mtotal\u001b[0m\u001b[1;33m/\u001b[0m\u001b[0mcount\u001b[0m\u001b[1;33m)\u001b[0m\u001b[1;33m\u001b[0m\u001b[0m\n\u001b[0m",
      "\u001b[1;31mZeroDivisionError\u001b[0m: division by zero"
     ]
    }
   ],
   "source": [
    "prompt = \"Enter a number of any size or 'done' when you are finished: \"\n",
    "count = 0\n",
    "total = 0\n",
    "while True:\n",
    "    test = input(prompt)\n",
    "    if test in [\"done\", \"Done\", \"DONE\"] : \n",
    "        break\n",
    "    try:\n",
    "        num = float(test)\n",
    "    except:\n",
    "        print(\"Invalid input. Please enter a number!\")\n",
    "        continue\n",
    "    count = count + 1\n",
    "    total = total + num\n",
    "print(\"\")\n",
    "print(\"The sum is\", total)\n",
    "print(\"The number of values is\", count)\n",
    "print(\"The average is\", total/count)"
   ]
  },
  {
   "cell_type": "markdown",
   "metadata": {},
   "source": [
    "In addition to being more typing, it would miss mistakes like DOne.\n",
    "\n",
    "What else could possibly go wrong? Try another series but start with done. What happened? How could you prevent that from happening?"
   ]
  },
  {
   "cell_type": "markdown",
   "metadata": {},
   "source": [
    "Assignment: make a copy of ether of the above approaches and then:\n",
    "\n",
    "1. Solve the last problem.\n",
    "2. Change the code to also return the largest and smallest values entered. If you get stuck look at the first lecture.\n",
    "3. Optional: How would you change the code to list the numbers entered, one per line.\n",
    "\n",
    "Remember that there might be more than one approach that works."
   ]
  }
 ],
 "metadata": {
  "kernelspec": {
   "display_name": "Python 3",
   "language": "python",
   "name": "python3"
  },
  "language_info": {
   "codemirror_mode": {
    "name": "ipython",
    "version": 3
   },
   "file_extension": ".py",
   "mimetype": "text/x-python",
   "name": "python",
   "nbconvert_exporter": "python",
   "pygments_lexer": "ipython3",
   "version": "3.6.5"
  }
 },
 "nbformat": 4,
 "nbformat_minor": 2
}
