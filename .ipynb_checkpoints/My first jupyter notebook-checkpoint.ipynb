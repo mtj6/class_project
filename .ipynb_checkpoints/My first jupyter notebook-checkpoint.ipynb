{
 "cells": [
  {
   "cell_type": "markdown",
   "metadata": {},
   "source": [
    "# this is my first python notebook\n",
    "(yes that's how it's spelled and capitalized)"
   ]
  },
  {
   "cell_type": "markdown",
   "metadata": {},
   "source": [
    "# Heading 1\n",
    "## Heading 2\n",
    "### Heading 3 \n",
    "#### Heading 4\n",
    "##### Heading 5\n",
    "I didn't really need that comment."
   ]
  },
  {
   "cell_type": "markdown",
   "metadata": {},
   "source": [
    "## This is a bulleted list\n",
    "* Item 1\n",
    "* Item 2\n",
    "    * Item 2a\n",
    "    * Item 2b\n",
    "        * Item 2ba\n",
    "    * Item 2c\n",
    "* Item 3"
   ]
  },
  {
   "cell_type": "markdown",
   "metadata": {},
   "source": [
    "# This is a numbered list\n",
    "1. item 1\n",
    "3. item 2\n",
    "7. item 3\n",
    "17. item 4\n",
    "    * item 4a\n",
    "    * item 4b"
   ]
  },
  {
   "cell_type": "markdown",
   "metadata": {},
   "source": [
    "#### Let's look at Bold and Italics\n",
    "In this line of text *this item will be in italics* but this won't. Also, _this will be in italics_ but this won't. __This part will be bold__ but this wont. Finally, **this bit will be bold** but this won't."
   ]
  },
  {
   "cell_type": "markdown",
   "metadata": {},
   "source": [
    "# My temperature conversion script\n",
    "In this exercise, I want to enter a temperature in Fahrenheit and have the code calculate degrees in Celsius."
   ]
  },
  {
   "cell_type": "code",
   "execution_count": 2,
   "metadata": {},
   "outputs": [
    {
     "data": {
      "text/plain": [
       "0.0"
      ]
     },
     "execution_count": 2,
     "metadata": {},
     "output_type": "execute_result"
    }
   ],
   "source": [
    "f = 32\n",
    "c = (f-32)*5/9\n",
    "c"
   ]
  },
  {
   "cell_type": "code",
   "execution_count": 4,
   "metadata": {},
   "outputs": [
    {
     "name": "stdout",
     "output_type": "stream",
     "text": [
      "Enter the temperature in degrees Fahrenheit? 100\n",
      "\n",
      "The temperature 100.0 degrees Fahrenheit is 37.78 degrees Celsius.\n"
     ]
    }
   ],
   "source": [
    "f = float(input(\"Enter the temperature in degrees Fahrenheit? \"))\n",
    "c = (f-32)*5/9\n",
    "c\n",
    "print()\n",
    "print(\"The temperature \" + str(f) + \" degrees Fahrenheit is \" + str(round((c),2)) + \" degrees Celsius.\")\n"
   ]
  },
  {
   "cell_type": "code",
   "execution_count": null,
   "metadata": {},
   "outputs": [],
   "source": [
    " "
   ]
  }
 ],
 "metadata": {
  "kernelspec": {
   "display_name": "Python 3",
   "language": "python",
   "name": "python3"
  },
  "language_info": {
   "codemirror_mode": {
    "name": "ipython",
    "version": 3
   },
   "file_extension": ".py",
   "mimetype": "text/x-python",
   "name": "python",
   "nbconvert_exporter": "python",
   "pygments_lexer": "ipython3",
   "version": "3.6.5"
  }
 },
 "nbformat": 4,
 "nbformat_minor": 2
}
