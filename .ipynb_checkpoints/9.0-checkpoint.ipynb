{
 "cells": [
  {
   "cell_type": "code",
   "execution_count": 3,
   "metadata": {},
   "outputs": [
    {
     "name": "stdout",
     "output_type": "stream",
     "text": [
      "\n",
      "This restaurant is called Pizza Plaza.\n",
      "This restaurant serves Greek food.\n",
      "Pizza Plaza is open.\n"
     ]
    }
   ],
   "source": [
    "class Restaurant():\n",
    "    \"\"\"Describe a restaurant.\"\"\"\n",
    "    \n",
    "    def __init__(self, restaurant_name, cuisine_type):\n",
    "        \"\"\"Initialize name and cuisine type attributes.\"\"\"\n",
    "        self.restaurant_name = restaurant_name\n",
    "        self.cuisine_type = cuisine_type\n",
    "    \n",
    "    def describe_restaurant(self):\n",
    "        \"\"\"Describe the restaurant.\"\"\"\n",
    "        print(\"\\nThis restaurant is called \" + self.restaurant_name.title() + \".\")\n",
    "        print(\"This restaurant serves \" + self.cuisine_type.title() + \" food.\")\n",
    "        \n",
    "    def open_restaurant(self):\n",
    "        print(self.restaurant_name.title() + \" is open.\")\n",
    "        \n",
    "restaurant = Restaurant('pizza plaza', 'greek')\n",
    "restaurant.describe_restaurant()\n",
    "restaurant.open_restaurant()"
   ]
  },
  {
   "cell_type": "code",
   "execution_count": 4,
   "metadata": {},
   "outputs": [
    {
     "name": "stdout",
     "output_type": "stream",
     "text": [
      "\n",
      "This restaurant is called Pizza Plaza.\n",
      "This restaurant serves Greek food.\n",
      "Pizza Plaza is open.\n",
      "\n",
      "This restaurant is called Gem.\n",
      "This restaurant serves Cajun food.\n",
      "Gem is open.\n",
      "\n",
      "This restaurant is called Saffron.\n",
      "This restaurant serves Indian food.\n",
      "Saffron is open.\n"
     ]
    }
   ],
   "source": [
    "class Restaurant():\n",
    "    \"\"\"Describe a restaurant.\"\"\"\n",
    "    \n",
    "    def __init__(self, restaurant_name, cuisine_type):\n",
    "        \"\"\"Initialize name and cuisine type attributes.\"\"\"\n",
    "        self.restaurant_name = restaurant_name\n",
    "        self.cuisine_type = cuisine_type\n",
    "    \n",
    "    def describe_restaurant(self):\n",
    "        \"\"\"Describe the restaurant.\"\"\"\n",
    "        print(\"\\nThis restaurant is called \" + self.restaurant_name.title() + \".\")\n",
    "        print(\"This restaurant serves \" + self.cuisine_type.title() + \" food.\")\n",
    "        \n",
    "    def open_restaurant(self):\n",
    "        print(self.restaurant_name.title() + \" is open.\")\n",
    "        \n",
    "restaurant1 = Restaurant('pizza plaza', 'greek')\n",
    "restaurant1.describe_restaurant()\n",
    "restaurant1.open_restaurant()\n",
    "\n",
    "restaurant2 = Restaurant('gem', 'cajun')\n",
    "restaurant2.describe_restaurant()\n",
    "restaurant2.open_restaurant()\n",
    "\n",
    "restaurant3 = Restaurant('saffron', 'indian')\n",
    "restaurant3.describe_restaurant()\n",
    "restaurant3.open_restaurant()"
   ]
  },
  {
   "cell_type": "code",
   "execution_count": 14,
   "metadata": {},
   "outputs": [
    {
     "name": "stdout",
     "output_type": "stream",
     "text": [
      "\n",
      "Name: Rebecca Appl\n",
      "Age: 45\n",
      "Sex: female\n",
      "Race: white\n",
      "Username: beccaskye\n",
      "Number of login attempts: 0\n",
      "\n",
      "Name: Rebecca Appl\n",
      "Age: 45\n",
      "Sex: female\n",
      "Race: white\n",
      "Username: beccaskye\n",
      "Number of login attempts: 1\n",
      "\n",
      "Name: Rebecca Appl\n",
      "Age: 45\n",
      "Sex: female\n",
      "Race: white\n",
      "Username: beccaskye\n",
      "Number of login attempts: 0\n"
     ]
    }
   ],
   "source": [
    "class User():\n",
    "    \"\"\"Describe some users.\"\"\"\n",
    "    def __init__(self, first_name, last_name, age, sex, race, username):\n",
    "        \"\"\"initialize user attributes\"\"\"\n",
    "        self.first_name = first_name\n",
    "        self.last_name = last_name\n",
    "        self.age = age\n",
    "        self.sex = sex\n",
    "        self.race = race\n",
    "        self.username = username\n",
    "        self.login_attempts = 0\n",
    "        \n",
    "    def describe_user(self):\n",
    "        \"\"\"describe the user\"\"\"\n",
    "        print('\\nName: ' + self.first_name.title() + ' ' + self.last_name.title())\n",
    "        print('Age: ' + str(self.age))\n",
    "        print('Sex: ' + self.sex)\n",
    "        print('Race: ' + self.race)\n",
    "        print('Username: ' + self.username)\n",
    "        print(\"Number of login attempts: \" + str(self.login_attempts))\n",
    "        \n",
    "    def increment_login_attempts(self):\n",
    "        \"\"\"increase number of login attempts\"\"\"\n",
    "        self.login_attempts += 1\n",
    "        \n",
    "    def greet_user(self):\n",
    "        \"\"\"greet the user\"\"\"\n",
    "        print('Hello ' + self.first_name.title() + ' ' + self.last_name.title() + '!')\n",
    "        \n",
    "    def reset_login_attempts(self):\n",
    "        \"\"\"reset the number of login attempts\"\"\"\n",
    "        self.login_attempts = 0\n",
    "        \n",
    "        \n",
    "user1 = User('rebecca', 'appl', '45', 'female', 'white', 'beccaskye')\n",
    "\n",
    "user1.describe_user()\n",
    "user1.increment_login_attempts()\n",
    "user1.describe_user()\n",
    "user1.reset_login_attempts()\n",
    "user1.describe_user()"
   ]
  },
  {
   "cell_type": "code",
   "execution_count": 15,
   "metadata": {},
   "outputs": [
    {
     "ename": "SyntaxError",
     "evalue": "invalid syntax (<ipython-input-15-605f32f6351f>, line 25)",
     "output_type": "error",
     "traceback": [
      "\u001b[1;36m  File \u001b[1;32m\"<ipython-input-15-605f32f6351f>\"\u001b[1;36m, line \u001b[1;32m25\u001b[0m\n\u001b[1;33m    def __init__(self, restaurant_name, cuisine_type)\u001b[0m\n\u001b[1;37m                                                     ^\u001b[0m\n\u001b[1;31mSyntaxError\u001b[0m\u001b[1;31m:\u001b[0m invalid syntax\n"
     ]
    }
   ],
   "source": [
    "class Restaurant():\n",
    "    \"\"\"Describe a restaurant.\"\"\"\n",
    "    \n",
    "    def __init__(self, restaurant_name, cuisine_type):\n",
    "        \"\"\"Initialize name and cuisine type attributes.\"\"\"\n",
    "        self.restaurant_name = restaurant_name\n",
    "        self.cuisine_type = cuisine_type\n",
    "        self.number_served = 10\n",
    "    \n",
    "    def describe_restaurant(self):\n",
    "        \"\"\"Describe the restaurant.\"\"\"\n",
    "        print(\"\\nThis restaurant is called \" + self.restaurant_name.title() + \".\")\n",
    "        print(\"This restaurant serves \" + self.cuisine_type.title() + \".\")\n",
    "        print('This restaurant has served ' + str(self.number_served) + ' customers.')\n",
    "        \n",
    "    def open_restaurant(self):\n",
    "        print(self.restaurant_name.title() + \" is open.\")\n",
    "        \n",
    "    def increment_number_served(self, number):\n",
    "        self.number_served += number\n",
    "        \n",
    "class Ice_Cream_Stand(Restaurant):\n",
    "    \"\"\"Represent an ice cream stand\"\"\"\n",
    "    \n",
    "    def __init__(self, restaurant_name, cuisine_type):\n",
    "        \"\"\"\n",
    "        Initialize attributes of parent class. \n",
    "        Then initialize attributes specific to an ice cream stand.\n",
    "        \"\"\"\n",
    "        super().__init__(restaurant_name, cuisine_type):\n",
    "        self.flavors = ['chocolate', 'vanilla', 'cookies and cream', 'cookie dough']\n",
    "        \n",
    "    def display_flavors(self):\n",
    "        \"\"\"List the flavors available at the ice cream stand.\"\"\"\n",
    "        Print(\"\\nThe flavors we have are:\")\n",
    "        for flavor in self.flavors:\n",
    "            print('-' + flavor)\n",
    "\n",
    "stand = Ice_Cream_Stand(\"Coppa\", \"ice cream\")\n",
    "stand.display_flavors()"
   ]
  },
  {
   "cell_type": "code",
   "execution_count": null,
   "metadata": {},
   "outputs": [],
   "source": []
  }
 ],
 "metadata": {
  "kernelspec": {
   "display_name": "Python 3",
   "language": "python",
   "name": "python3"
  },
  "language_info": {
   "codemirror_mode": {
    "name": "ipython",
    "version": 3
   },
   "file_extension": ".py",
   "mimetype": "text/x-python",
   "name": "python",
   "nbconvert_exporter": "python",
   "pygments_lexer": "ipython3",
   "version": "3.6.5"
  }
 },
 "nbformat": 4,
 "nbformat_minor": 2
}
