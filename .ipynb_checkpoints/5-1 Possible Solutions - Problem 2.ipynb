{
 "cells": [
  {
   "cell_type": "markdown",
   "metadata": {},
   "source": [
    "# 5-1 Possible Solutions - save until you have tried your own"
   ]
  },
  {
   "cell_type": "markdown",
   "metadata": {},
   "source": [
    "## Problem 2"
   ]
  },
  {
   "cell_type": "markdown",
   "metadata": {},
   "source": [
    "One approach might be: (Note I added round() functions to the sum and average)"
   ]
  },
  {
   "cell_type": "code",
   "execution_count": 8,
   "metadata": {},
   "outputs": [
    {
     "name": "stdout",
     "output_type": "stream",
     "text": [
      "Enter a number of any size or 'done' when you are finished: 67\n",
      "Enter a number of any size or 'done' when you are finished: 23\n",
      "Enter a number of any size or 'done' when you are finished: 1.675\n",
      "Enter a number of any size or 'done' when you are finished: 4.11123\n",
      "Enter a number of any size or 'done' when you are finished: done\n",
      "\n",
      "The smallest value is 1.675\n",
      "The largest value is 67.0\n",
      "The sum is 95.79\n",
      "The number of values is 4\n",
      "The average is 23.95\n"
     ]
    }
   ],
   "source": [
    "prompt = \"Enter a number of any size or 'done' when you are finished: \"\n",
    "count = 0\n",
    "total = 0\n",
    "largest = None\n",
    "smallest = None\n",
    "while True:\n",
    "    test = input(prompt)\n",
    "    if test.lower() == \"done\" : \n",
    "        break\n",
    "    try:\n",
    "        num = float(test)\n",
    "    except:\n",
    "        print(\"Invalid input. Please enter a number!\")\n",
    "        continue\n",
    "    count = count + 1\n",
    "    total = total + num\n",
    "    if smallest is None or num < smallest:\n",
    "        smallest = num\n",
    "    if largest is None or num > largest:\n",
    "        largest = num   \n",
    "if count > 0: \n",
    "    print(\"\")\n",
    "    print(\"The smallest value is\", smallest)\n",
    "    print(\"The largest value is\", largest)\n",
    "    print(\"The sum is\", round(total,2))\n",
    "    print(\"The number of values is\", count)\n",
    "    print(\"The average is\", round(total/count,2))\n",
    "else:\n",
    "    print(\"\")\n",
    "    print(\"No numbers were entered! What's up with that Dude?\")"
   ]
  },
  {
   "cell_type": "code",
   "execution_count": null,
   "metadata": {
    "collapsed": true
   },
   "outputs": [],
   "source": []
  }
 ],
 "metadata": {
  "kernelspec": {
   "display_name": "Python 3",
   "language": "python",
   "name": "python3"
  },
  "language_info": {
   "codemirror_mode": {
    "name": "ipython",
    "version": 3
   },
   "file_extension": ".py",
   "mimetype": "text/x-python",
   "name": "python",
   "nbconvert_exporter": "python",
   "pygments_lexer": "ipython3",
   "version": "3.6.3"
  }
 },
 "nbformat": 4,
 "nbformat_minor": 2
}
